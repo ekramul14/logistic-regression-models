{
  "cells": [
    {
      "cell_type": "markdown",
      "metadata": {
        "id": "H-Q4PrfSyhRv"
      },
      "source": [
        "# **Regularized Logistic Regression**\n",
        "\n",
        "In this notebook, we will implement regularized logistic regression to predict whether microchips from a fabrication plant passes quality assurance (QA). During QA, each microchip goes through various tests to ensure it is functioning correctly. \n",
        "\n",
        "# **Problem Statement**\n",
        "\n",
        "Suppose I am the product manager of the factory and we have the test results for some microchips on two different tests. \n",
        "- From these two tests, we would like to determine whether the microchips should be accepted or rejected. \n",
        "- To help us make the decision, we have a dataset of test results on past microchips, from which we can build a logistic regression model.\n",
        "\n",
        "# **Loading and visualizing the data**\n",
        "\n",
        "Let's start by loading the dataset for this task and visualizing it. \n",
        "\n",
        "- The `load_dataset()` function shown below loads the data into variables `X_train` and `y_train`\n",
        "  - `X_train` contains the test results for the microchips from two tests\n",
        "  - `y_train` contains the results of the QA  \n",
        "      - `y_train = 1` if the microchip was accepted \n",
        "      - `y_train = 0` if the microchip was rejected \n",
        "  - Both `X_train` and `y_train` are numpy arrays."
      ]
    },
    {
      "cell_type": "code",
      "source": [
        "import numpy as np\n",
        "import matplotlib.pyplot as plt\n",
        "import copy\n",
        "import math\n",
        "from google.colab import drive\n",
        "import matplotlib.image as mpimg \n",
        "drive.mount('/content/drive')\n",
        "%matplotlib inline"
      ],
      "metadata": {
        "colab": {
          "base_uri": "https://localhost:8080/"
        },
        "id": "18pq1TFC1swP",
        "outputId": "8ede22d6-2b61-47d9-80f8-0aa8f292b5a7"
      },
      "execution_count": 50,
      "outputs": [
        {
          "output_type": "stream",
          "name": "stdout",
          "text": [
            "Drive already mounted at /content/drive; to attempt to forcibly remount, call drive.mount(\"/content/drive\", force_remount=True).\n"
          ]
        }
      ]
    },
    {
      "cell_type": "code",
      "source": [
        "def load_data(filename):\n",
        "    data = np.loadtxt(filename, delimiter=',')\n",
        "    X = data[:,:2]\n",
        "    y = data[:,2]\n",
        "    return X, y\n"
      ],
      "metadata": {
        "id": "Xn3RXM_V165n"
      },
      "execution_count": 51,
      "outputs": []
    },
    {
      "cell_type": "code",
      "execution_count": 52,
      "metadata": {
        "id": "vTsSf93ryhRv"
      },
      "outputs": [],
      "source": [
        "# load dataset\n",
        "path_testing = \"/content/drive/MyDrive/Code/logistic-regression-models/ex2data2.txt\"\n",
        "X_train, y_train = load_data(path_testing)"
      ]
    },
    {
      "cell_type": "markdown",
      "metadata": {
        "id": "_mccLRN5yhRv"
      },
      "source": [
        "# **View the variables**\n",
        "\n",
        "The code below prints the first five values of `X_train` and `y_train` and the type of the variables.\n"
      ]
    },
    {
      "cell_type": "code",
      "execution_count": 53,
      "metadata": {
        "colab": {
          "base_uri": "https://localhost:8080/"
        },
        "id": "t3sp6GMOyhRw",
        "outputId": "801190a4-60aa-4e94-be2e-bd6aeb4adaaa"
      },
      "outputs": [
        {
          "output_type": "stream",
          "name": "stdout",
          "text": [
            "X_train: [[ 0.051267  0.69956 ]\n",
            " [-0.092742  0.68494 ]\n",
            " [-0.21371   0.69225 ]\n",
            " [-0.375     0.50219 ]\n",
            " [-0.51325   0.46564 ]]\n",
            "Type of X_train: <class 'numpy.ndarray'>\n",
            "y_train: [1. 1. 1. 1. 1.]\n",
            "Type of y_train: <class 'numpy.ndarray'>\n"
          ]
        }
      ],
      "source": [
        "# print X_train\n",
        "print(\"X_train:\", X_train[:5])\n",
        "print(\"Type of X_train:\",type(X_train))\n",
        "\n",
        "# print y_train\n",
        "print(\"y_train:\", y_train[:5])\n",
        "print(\"Type of y_train:\",type(y_train))"
      ]
    },
    {
      "cell_type": "markdown",
      "metadata": {
        "id": "k4LKOyRhyhRw"
      },
      "source": [
        "#### **Check the dimensions of variables**\n",
        "\n",
        "Another useful way to get familiar with the data is to view its dimensions. Let's print the shape of `X_train` and `y_train` and see how many training examples we have in our dataset."
      ]
    },
    {
      "cell_type": "code",
      "execution_count": 54,
      "metadata": {
        "colab": {
          "base_uri": "https://localhost:8080/"
        },
        "id": "V5qrg7CGyhRx",
        "outputId": "dc5b72b8-99ee-4b5a-c607-48ac3f9462fe"
      },
      "outputs": [
        {
          "output_type": "stream",
          "name": "stdout",
          "text": [
            "The shape of X_train is: (118, 2)\n",
            "The shape of y_train is: (118,)\n",
            "We have m = 118 training examples\n"
          ]
        }
      ],
      "source": [
        "print ('The shape of X_train is: ' + str(X_train.shape))\n",
        "print ('The shape of y_train is: ' + str(y_train.shape))\n",
        "print ('We have m = %d training examples' % (len(y_train)))"
      ]
    },
    {
      "cell_type": "markdown",
      "metadata": {
        "id": "eD5WNTsMyhRx"
      },
      "source": [
        "#### **Visualize the data**\n",
        "\n"
      ]
    },
    {
      "cell_type": "code",
      "source": [
        "def plot_data(X, y, pos_label=\"y=1\", neg_label=\"y=0\"):\n",
        "    positive = y == 1\n",
        "    negative = y == 0\n",
        "    \n",
        "    # Plot examples\n",
        "    plt.plot(X[positive, 0], X[positive, 1], 'k+', label=pos_label)\n",
        "    plt.plot(X[negative, 0], X[negative, 1], 'yo', label=neg_label)"
      ],
      "metadata": {
        "id": "_fXZsAdd55Ni"
      },
      "execution_count": 55,
      "outputs": []
    },
    {
      "cell_type": "code",
      "execution_count": 56,
      "metadata": {
        "colab": {
          "base_uri": "https://localhost:8080/",
          "height": 279
        },
        "id": "TPuhBgpUyhR0",
        "outputId": "bdf779dc-2265-4685-8e67-a599c74d1aae"
      },
      "outputs": [
        {
          "output_type": "display_data",
          "data": {
            "text/plain": [
              "<Figure size 432x288 with 1 Axes>"
            ],
            "image/png": "[encoded data removed]"
          },
          "metadata": {
            "needs_background": "light"
          }
        }
      ],
      "source": [
        "# Plot examples\n",
        "plot_data(X_train, y_train[:], pos_label=\"Accepted\", neg_label=\"Rejected\")\n",
        "\n",
        "# Set the y-axis label\n",
        "plt.ylabel('Microchip Test 2') \n",
        "# Set the x-axis label\n",
        "plt.xlabel('Microchip Test 1') \n",
        "plt.legend(loc=\"upper right\")\n",
        "plt.show()"
      ]
    },
    {
      "cell_type": "markdown",
      "metadata": {
        "id": "_2RxirWyyhR0"
      },
      "source": [
        "Figure shows that our dataset cannot be separated into positive and negative examples by a straight-line through the plot. Therefore, a straight forward application of logistic regression will not perform well on this dataset since logistic regression will only be able to find a linear decision boundary.\n"
      ]
    },
    {
      "cell_type": "markdown",
      "metadata": {
        "id": "R8mMNEG4yhR1"
      },
      "source": [
        "# **Feature mapping**\n",
        "\n",
        "One way to fit the data better is to create more features from each data point. In the provided function `map_feature`, we will map the features into all polynomial terms of $x_1$ and $x_2$ up to the sixth power.\n",
        "\n",
        "$$\\mathrm{map\\_feature}(x) = \n",
        "\\left[\\begin{array}{c}\n",
        "x_1\\\\\n",
        "x_2\\\\\n",
        "x_1^2\\\\\n",
        "x_1 x_2\\\\\n",
        "x_2^2\\\\\n",
        "x_1^3\\\\\n",
        "\\vdots\\\\\n",
        "x_1 x_2^5\\\\\n",
        "x_2^6\\end{array}\\right]$$\n",
        "\n",
        "As a result of this mapping, our vector of two features (the scores on two QA tests) has been transformed into a 27-dimensional vector. \n",
        "\n",
        "- A logistic regression classifier trained on this higher-dimension feature vector will have a more complex decision boundary and will be nonlinear when drawn in our 2-dimensional plot.  "
      ]
    },
    {
      "cell_type": "code",
      "source": [
        "def map_feature(X1, X2):\n",
        "    \"\"\"\n",
        "    Feature mapping function to polynomial features    \n",
        "    \"\"\"\n",
        "    X1 = np.atleast_1d(X1)\n",
        "    X2 = np.atleast_1d(X2)\n",
        "    degree = 6\n",
        "    out = []\n",
        "    for i in range(1, degree+1):\n",
        "        for j in range(i + 1):\n",
        "            out.append((X1**(i-j) * (X2**j)))\n",
        "    return np.stack(out, axis=1)\n"
      ],
      "metadata": {
        "id": "QTG8xbCa6PhE"
      },
      "execution_count": 57,
      "outputs": []
    },
    {
      "cell_type": "code",
      "execution_count": 58,
      "metadata": {
        "colab": {
          "base_uri": "https://localhost:8080/"
        },
        "id": "bnBHFKxSyhR1",
        "outputId": "3f322f75-3c3e-44e2-fd0c-5cf10fafd67b"
      },
      "outputs": [
        {
          "output_type": "stream",
          "name": "stdout",
          "text": [
            "Original shape of data: (118, 2)\n",
            "Shape after feature mapping: (118, 27)\n"
          ]
        }
      ],
      "source": [
        "print(\"Original shape of data:\", X_train.shape)\n",
        "\n",
        "mapped_X =  map_feature(X_train[:, 0], X_train[:, 1])\n",
        "print(\"Shape after feature mapping:\", mapped_X.shape)"
      ]
    },
    {
      "cell_type": "markdown",
      "metadata": {
        "id": "fba_VWs6yhR2"
      },
      "source": [
        "Let's also print the first elements of `X_train` and `mapped_X` to see the tranformation."
      ]
    },
    {
      "cell_type": "code",
      "execution_count": 59,
      "metadata": {
        "colab": {
          "base_uri": "https://localhost:8080/"
        },
        "id": "2I5_DXzmyhR2",
        "outputId": "a82505bc-736f-465d-cd89-1316f84f73b5"
      },
      "outputs": [
        {
          "output_type": "stream",
          "name": "stdout",
          "text": [
            "X_train[0]: [0.051267 0.69956 ]\n",
            "mapped X_train[0]: [5.12670000e-02 6.99560000e-01 2.62830529e-03 3.58643425e-02\n",
            " 4.89384194e-01 1.34745327e-04 1.83865725e-03 2.50892595e-02\n",
            " 3.42353606e-01 6.90798869e-06 9.42624411e-05 1.28625106e-03\n",
            " 1.75514423e-02 2.39496889e-01 3.54151856e-07 4.83255257e-06\n",
            " 6.59422333e-05 8.99809795e-04 1.22782870e-02 1.67542444e-01\n",
            " 1.81563032e-08 2.47750473e-07 3.38066048e-06 4.61305487e-05\n",
            " 6.29470940e-04 8.58939846e-03 1.17205992e-01]\n"
          ]
        }
      ],
      "source": [
        "print(\"X_train[0]:\", X_train[0])\n",
        "print(\"mapped X_train[0]:\", mapped_X[0])"
      ]
    },
    {
      "cell_type": "markdown",
      "metadata": {
        "id": "qLfr101ByhR3"
      },
      "source": [
        "# **Cost function for regularized logistic regression**\n",
        "\n",
        "In this part, we will implement the cost function for regularized logistic regression.\n",
        "\n",
        "Recall that for regularized logistic regression, the cost function is of the form\n",
        "$$J(\\mathbf{w},b) = \\frac{1}{m}  \\sum_{i=0}^{m-1} \\left[ -y^{(i)} \\log\\left(f_{\\mathbf{w},b}\\left( \\mathbf{x}^{(i)} \\right) \\right) - \\left( 1 - y^{(i)}\\right) \\log \\left( 1 - f_{\\mathbf{w},b}\\left( \\mathbf{x}^{(i)} \\right) \\right) \\right] + \\frac{\\lambda}{2m}  \\sum_{j=0}^{n-1} w_j^2$$\n",
        "\n",
        "Compare this to the cost function without regularization, which is of the form \n",
        "\n",
        "$$ J(\\mathbf{w}.b) = \\frac{1}{m}\\sum_{i=0}^{m-1} \\left[ (-y^{(i)} \\log\\left(f_{\\mathbf{w},b}\\left( \\mathbf{x}^{(i)} \\right) \\right) - \\left( 1 - y^{(i)}\\right) \\log \\left( 1 - f_{\\mathbf{w},b}\\left( \\mathbf{x}^{(i)} \\right) \\right)\\right]$$\n",
        "\n",
        "The difference is the regularization term, which is $$\\frac{\\lambda}{2m}  \\sum_{j=0}^{n-1} w_j^2$$ \n",
        "Note that the $b$ parameter is not regularized."
      ]
    },
    {
      "cell_type": "code",
      "source": [
        "def sigmoid(z):\n",
        "\n",
        "    g = 1/(1+np.exp(-z))\n",
        "    \n",
        "    return g"
      ],
      "metadata": {
        "id": "We9PJ87F_Fxv"
      },
      "execution_count": 60,
      "outputs": []
    },
    {
      "cell_type": "code",
      "source": [
        "def compute_cost(X, y, w, b, lambda_= 1):\n",
        "\n",
        "    m, n = X.shape\n",
        "    \n",
        "    cost = 0.0\n",
        "    for i in range(m):\n",
        "        z_i = np.dot(X[i],w) + b\n",
        "        f_wb_i = sigmoid(z_i)\n",
        "        cost += -y[i]*np.log(f_wb_i) - (1-y[i])*np.log(1-f_wb_i)\n",
        "    total_cost = cost/m \n",
        "\n",
        "    return total_cost"
      ],
      "metadata": {
        "id": "HLvENvHR-6wW"
      },
      "execution_count": 61,
      "outputs": []
    },
    {
      "cell_type": "markdown",
      "metadata": {
        "id": "FrqbfICwyhR3"
      },
      "source": [
        "Please complete the `compute_cost_reg` function below to calculate the following term for each element in $w$ \n",
        "$$\\frac{\\lambda}{2m}  \\sum_{j=0}^{n-1} w_j^2$$\n",
        "\n",
        "The starter code then adds this to the cost without regularization (which you computed above in `compute_cost`) to calculate the cost with regulatization."
      ]
    },
    {
      "cell_type": "code",
      "execution_count": 62,
      "metadata": {
        "id": "gqZu3L3lyhR3"
      },
      "outputs": [],
      "source": [
        "\n",
        "def compute_cost_reg(X, y, w, b, lambda_ = 1):\n",
        "\n",
        "    m, n = X.shape\n",
        "    \n",
        "    # Calls the compute_cost function that you implemented above\n",
        "    cost_without_reg = compute_cost(X, y, w, b) \n",
        "    \n",
        "    # We need to calculate this value\n",
        "    reg_cost = 0.\n",
        "    \n",
        "    for j in range(n):\n",
        "        reg_cost += (w[j]**2)\n",
        "    \n",
        "    \n",
        "    # Add the regularization cost to get the total cost\n",
        "    total_cost = cost_without_reg + (lambda_/(2 * m)) * reg_cost\n",
        "\n",
        "    return total_cost"
      ]
    },
    {
      "cell_type": "markdown",
      "source": [
        "**Run the cell below to check the implementation of the compute_cost_reg function.**"
      ],
      "metadata": {
        "id": "CKdxgofUAEee"
      }
    },
    {
      "cell_type": "code",
      "source": [
        "X_mapped = map_feature(X_train[:, 0], X_train[:, 1])\n",
        "np.random.seed(1)\n",
        "initial_w = np.random.rand(X_mapped.shape[1]) - 0.5\n",
        "initial_b = 0.5\n",
        "lambda_ = 0.5\n",
        "cost = compute_cost_reg(X_mapped, y_train, initial_w, initial_b, lambda_)\n",
        "\n",
        "print(\"Regularized cost :\", cost)"
      ],
      "metadata": {
        "colab": {
          "base_uri": "https://localhost:8080/"
        },
        "id": "l25-liNG_xx5",
        "outputId": "0514494b-740d-4311-caef-8efd21fbb467"
      },
      "execution_count": 63,
      "outputs": [
        {
          "output_type": "stream",
          "name": "stdout",
          "text": [
            "Regularized cost : 0.6618252552483948\n"
          ]
        }
      ]
    },
    {
      "cell_type": "markdown",
      "metadata": {
        "id": "dn3u0GrLyhR5"
      },
      "source": [
        "\n",
        "# **Gradient for regularized logistic regression**\n",
        "\n",
        "In this section, we will implement the gradient for regularized logistic regression.\n",
        "\n",
        "\n",
        "The gradient of the regularized cost function has two components. The first, $\\frac{\\partial J(\\mathbf{w},b)}{\\partial b}$ is a scalar, the other is a vector with the same shape as the parameters $\\mathbf{w}$, where the $j^\\mathrm{th}$ element is defined as follows:\n",
        "\n",
        "$$\\frac{\\partial J(\\mathbf{w},b)}{\\partial b} = \\frac{1}{m}  \\sum_{i=0}^{m-1} (f_{\\mathbf{w},b}(\\mathbf{x}^{(i)}) - y^{(i)})  $$\n",
        "\n",
        "$$\\frac{\\partial J(\\mathbf{w},b)}{\\partial w_j} = \\left( \\frac{1}{m}  \\sum_{i=0}^{m-1} (f_{\\mathbf{w},b}(\\mathbf{x}^{(i)}) - y^{(i)}) x_j^{(i)} \\right) + \\frac{\\lambda}{m} w_j  \\quad\\, \\mbox{for $j=0...(n-1)$}$$\n",
        "\n",
        "Compare this to the gradient of the cost function without regularization (which you implemented above), which is of the form \n",
        "$$\n",
        "\\frac{\\partial J(\\mathbf{w},b)}{\\partial b}  = \\frac{1}{m} \\sum\\limits_{i = 0}^{m-1} (f_{\\mathbf{w},b}(\\mathbf{x}^{(i)}) - \\mathbf{y}^{(i)}) \\tag{2}\n",
        "$$\n",
        "$$\n",
        "\\frac{\\partial J(\\mathbf{w},b)}{\\partial w_j}  = \\frac{1}{m} \\sum\\limits_{i = 0}^{m-1} (f_{\\mathbf{w},b}(\\mathbf{x}^{(i)}) - \\mathbf{y}^{(i)})x_{j}^{(i)} \\tag{3}\n",
        "$$\n",
        "\n",
        "\n",
        "As we can see,$\\frac{\\partial J(\\mathbf{w},b)}{\\partial b}$ is the same, the difference is the following term in $\\frac{\\partial J(\\mathbf{w},b)}{\\partial w}$, which is $$\\frac{\\lambda}{m} w_j  \\quad\\, \\mbox{for $j=0...(n-1)$}$$ \n",
        "\n",
        "\n",
        "\n"
      ]
    },
    {
      "cell_type": "markdown",
      "metadata": {
        "id": "U9p7V2qPyhR6"
      },
      "source": [
        "We have to complete the `compute_gradient_reg` function below to modify the code below to calculate the following term\n",
        "\n",
        "$$\\frac{\\lambda}{m} w_j  \\quad\\, \\mbox{for $j=0...(n-1)$}$$\n",
        "\n",
        "The starter code will add this term to the $\\frac{\\partial J(\\mathbf{w},b)}{\\partial w}$ returned from `compute_gradient` above to get the gradient for the regularized cost function.\n",
        "\n"
      ]
    },
    {
      "cell_type": "code",
      "source": [
        "def compute_gradient(X, y, w, b, lambda_=None): \n",
        "\n",
        "    m, n = X.shape\n",
        "    dj_dw = np.zeros(w.shape)\n",
        "    dj_db = 0\n",
        "\n",
        "    for i in range(m):\n",
        "        f_wb_i = sigmoid(np.dot(X[i],w) + b)\n",
        "        err_i = f_wb_i - y[i]\n",
        "        for j in range(n): \n",
        "            dj_dw[j] += err_i*X[i,j]\n",
        "        \n",
        "        dj_db += err_i\n",
        "        \n",
        "    dj_dw = dj_dw/m\n",
        "    dj_db = dj_db/m\n",
        "    \n",
        "    return dj_db, dj_dw"
      ],
      "metadata": {
        "id": "LeHUGpUTAqfk"
      },
      "execution_count": 64,
      "outputs": []
    },
    {
      "cell_type": "code",
      "execution_count": 65,
      "metadata": {
        "id": "zcM_famcyhR6"
      },
      "outputs": [],
      "source": [
        "def compute_gradient_reg(X, y, w, b, lambda_ = 1): \n",
        "    m, n = X.shape\n",
        "    \n",
        "    dj_db, dj_dw = compute_gradient(X, y, w, b)\n",
        "     \n",
        "    for j in range(n):\n",
        "        dj_dw[j] = dj_dw[j] + (lambda_/m) * w[j]         \n",
        "        \n",
        "    return dj_db, dj_dw"
      ]
    },
    {
      "cell_type": "markdown",
      "metadata": {
        "id": "5JpyQ5NeyhR_"
      },
      "source": [
        "\n",
        "### **Learning parameters using gradient descent**\n",
        "We will use our gradient descent function implemented above to learn the optimal parameters $w$,$b$. "
      ]
    },
    {
      "cell_type": "code",
      "source": [
        "def gradient_descent(X, y, w_in, b_in, cost_function, gradient_function, alpha, num_iters, lambda_): \n",
        "    \n",
        "    # number of training examples\n",
        "    m = len(X)\n",
        "    \n",
        "    # An array to store cost J and w's at each iteration primarily for graphing later\n",
        "    J_history = []\n",
        "    w_history = []\n",
        "    \n",
        "    for i in range(num_iters):\n",
        "\n",
        "        # Calculate the gradient and update the parameters\n",
        "        dj_db, dj_dw = gradient_function(X, y, w_in, b_in, lambda_)   \n",
        "\n",
        "        # Update Parameters using w, b, alpha and gradient\n",
        "        w_in = w_in - alpha * dj_dw               \n",
        "        b_in = b_in - alpha * dj_db              \n",
        "       \n",
        "        # Save cost J at each iteration\n",
        "        if i<100000:      # prevent resource exhaustion \n",
        "            cost =  cost_function(X, y, w_in, b_in, lambda_)\n",
        "            J_history.append(cost)\n",
        "\n",
        "        # Print cost every at intervals 10 times or as many iterations if < 10\n",
        "        if i% math.ceil(num_iters/10) == 0 or i == (num_iters-1):\n",
        "            w_history.append(w_in)\n",
        "            print(f\"Iteration {i:4}: Cost {float(J_history[-1]):8.2f}   \")\n",
        "        \n",
        "    return w_in, b_in, J_history, w_history #return w and J,w history for graphing"
      ],
      "metadata": {
        "id": "fsAkPd4kBQs9"
      },
      "execution_count": 66,
      "outputs": []
    },
    {
      "cell_type": "code",
      "execution_count": 67,
      "metadata": {
        "colab": {
          "base_uri": "https://localhost:8080/"
        },
        "id": "gqnlwbFHyhR_",
        "outputId": "2cab3d26-9410-4a5b-d70b-4664e3bed59b"
      },
      "outputs": [
        {
          "output_type": "stream",
          "name": "stdout",
          "text": [
            "Iteration    0: Cost     0.72   \n",
            "Iteration 1000: Cost     0.59   \n",
            "Iteration 2000: Cost     0.56   \n",
            "Iteration 3000: Cost     0.53   \n",
            "Iteration 4000: Cost     0.51   \n",
            "Iteration 5000: Cost     0.50   \n",
            "Iteration 6000: Cost     0.48   \n",
            "Iteration 7000: Cost     0.47   \n",
            "Iteration 8000: Cost     0.46   \n",
            "Iteration 9000: Cost     0.45   \n",
            "Iteration 9999: Cost     0.45   \n"
          ]
        }
      ],
      "source": [
        "# Initialize fitting parameters\n",
        "np.random.seed(1)\n",
        "initial_w = np.random.rand(X_mapped.shape[1])-0.5\n",
        "initial_b = 1.\n",
        "\n",
        "# Set regularization parameter lambda_ to 1 (we can try varying this)\n",
        "lambda_ = 0.01;                                          \n",
        "# Some gradient descent settings\n",
        "iterations = 10000\n",
        "alpha = 0.01\n",
        "\n",
        "w,b, J_history,_ = gradient_descent(X_mapped, y_train, initial_w, initial_b, \n",
        "                                    compute_cost_reg, compute_gradient_reg, \n",
        "                                    alpha, iterations, lambda_)"
      ]
    },
    {
      "cell_type": "markdown",
      "metadata": {
        "id": "BOWkAzMEyhSB"
      },
      "source": [
        "### **Evaluating regularized logistic regression model**\n",
        "\n",
        "We will use the `predict` function that we implemented above to calculate the accuracy of the regulaized logistic regression model on the training set"
      ]
    },
    {
      "cell_type": "code",
      "source": [
        "def predict(X, w, b): \n",
        "    \n",
        "    # number of training examples\n",
        "    m, n = X.shape   \n",
        "    p = np.zeros(m)\n",
        "   \n",
        "    \n",
        "    # Loop over each example\n",
        "    for i in range(m):   \n",
        "        z_wb = 0\n",
        "        # Loop over each feature\n",
        "        for j in range(n): \n",
        "            # Add the corresponding term to z_wb\n",
        "            z_wb_ij = X[i, j] * w[j]\n",
        "            z_wb += z_wb_ij\n",
        "        \n",
        "        # Add bias term \n",
        "        z_wb += b\n",
        "        \n",
        "        # Calculate the prediction for this example\n",
        "        f_wb = sigmoid(z_wb)\n",
        "\n",
        "        # Apply the threshold\n",
        "        if f_wb >= 0.5:\n",
        "            p[i] = 1\n",
        "        else:\n",
        "            p[i] = 0\n",
        "        \n",
        "    return p"
      ],
      "metadata": {
        "id": "K-AL5csrB8wI"
      },
      "execution_count": 68,
      "outputs": []
    },
    {
      "cell_type": "code",
      "execution_count": 69,
      "metadata": {
        "colab": {
          "base_uri": "https://localhost:8080/"
        },
        "id": "46CdXvvYyhSB",
        "outputId": "18034604-19d6-4592-c82e-8d29f4845889"
      },
      "outputs": [
        {
          "output_type": "stream",
          "name": "stdout",
          "text": [
            "Train Accuracy: 82.203390\n"
          ]
        }
      ],
      "source": [
        "#Compute accuracy on the training set\n",
        "p = predict(X_mapped, w, b)\n",
        "\n",
        "print('Train Accuracy: %f'%(np.mean(p == y_train) * 100))"
      ]
    }
  ],
  "metadata": {
    "kernelspec": {
      "display_name": "Python 3",
      "language": "python",
      "name": "python3"
    },
    "language_info": {
      "codemirror_mode": {
        "name": "ipython",
        "version": 3
      },
      "file_extension": ".py",
      "mimetype": "text/x-python",
      "name": "python",
      "nbconvert_exporter": "python",
      "pygments_lexer": "ipython3",
      "version": "3.7.6"
    },
    "colab": {
      "provenance": [],
      "collapsed_sections": []
    }
  },
  "nbformat": 4,
  "nbformat_minor": 0
}