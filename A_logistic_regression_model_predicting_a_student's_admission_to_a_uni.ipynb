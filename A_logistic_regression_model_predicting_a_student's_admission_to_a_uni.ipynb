{
  "nbformat": 4,
  "nbformat_minor": 0,
  "metadata": {
    "colab": {
      "provenance": [],
      "collapsed_sections": []
    },
    "kernelspec": {
      "name": "python3",
      "display_name": "Python 3"
    },
    "language_info": {
      "name": "python"
    }
  },
  "cells": [
    {
      "cell_type": "markdown",
      "source": [
        "# 1 - Packages\n",
        "First, let's run the cell below to import all the packages that you will need during this assignment.\n",
        "\n",
        "numpy is the fundamental package for scientific computing with Python.\n",
        "matplotlib is a famous library to plot graphs in Python."
      ],
      "metadata": {
        "id": "cBzbgRNe7_Ky"
      }
    },
    {
      "cell_type": "code",
      "execution_count": 27,
      "metadata": {
        "colab": {
          "base_uri": "https://localhost:8080/"
        },
        "id": "a9suK9c771aT",
        "outputId": "d56e352e-d5c7-4375-abda-0e24f7d99fed"
      },
      "outputs": [
        {
          "output_type": "stream",
          "name": "stdout",
          "text": [
            "Drive already mounted at /content/drive; to attempt to forcibly remount, call drive.mount(\"/content/drive\", force_remount=True).\n"
          ]
        }
      ],
      "source": [
        "import numpy as np\n",
        "import matplotlib.pyplot as plt\n",
        "import copy\n",
        "import math\n",
        "from google.colab import drive\n",
        "import matplotlib.image as mpimg \n",
        "drive.mount('/content/drive')\n",
        "%matplotlib inline"
      ]
    },
    {
      "cell_type": "code",
      "source": [
        "def load_data(filename):\n",
        "    data = np.loadtxt(filename, delimiter=',')\n",
        "    X = data[:,:2]\n",
        "    y = data[:,2]\n",
        "    return X, y\n"
      ],
      "metadata": {
        "id": "yugNSdrdEL-W"
      },
      "execution_count": 28,
      "outputs": []
    },
    {
      "cell_type": "markdown",
      "source": [
        "2 - Logistic Regression\n",
        "In this part of the exercise, we will build a logistic regression model to predict whether a student gets admitted into a university.\n",
        "\n",
        "\n",
        "**2.1 Problem Statement**\n",
        "Suppose that we are the administrator of a university department and we want to determine each applicant’s chance of admission based on their results on two exams.\n",
        "\n",
        "We have historical data from previous applicants that we can use as a training set for logistic regression.\n",
        "For each training example, we have the applicant’s scores on two exams and the admissions decision.\n",
        "Our task is to build a classification model that estimates an applicant’s probability of admission based on the scores from those two exams.\n",
        "\n",
        "**2.2 Loading and visualizing the data**\n",
        "We will start by loading the dataset for this task.\n",
        "\n",
        "The load_dataset() function shown below loads the data into variables X_train and y_train\n",
        "X_train contains exam scores on two exams for a student\n",
        "y_train is the admission decision\n",
        "y_train = 1 if the student was admitted\n",
        "y_train = 0 if the student was not admitted\n",
        "Both X_train and y_train are numpy arrays."
      ],
      "metadata": {
        "id": "ZPTk9doF8TEy"
      }
    },
    {
      "cell_type": "code",
      "source": [
        "# load dataset\n",
        "path_testing = \"/content/drive/MyDrive/Code/A-logistic-regression-model-predicting-a student's-admission-to-a-uni/ex2data1.txt\"\n",
        "X_train, y_train = load_data(path_testing)"
      ],
      "metadata": {
        "id": "n1DBmKA98MMr"
      },
      "execution_count": 29,
      "outputs": []
    },
    {
      "cell_type": "markdown",
      "source": [
        "**View the variables**\n",
        "Let's get more familiar with our dataset.\n",
        "\n",
        "A good place to start is to just print out each variable and see what it contains.\n",
        "The code below prints the first five values of X_train and the type of the variable"
      ],
      "metadata": {
        "id": "zPVuQAz7EhRF"
      }
    },
    {
      "cell_type": "code",
      "source": [
        "print(\"First five elements in X_train are:\\n\", X_train[:5])\n",
        "print(\"Type of X_train:\",type(X_train))"
      ],
      "metadata": {
        "colab": {
          "base_uri": "https://localhost:8080/"
        },
        "id": "NxqxDsQA8MVM",
        "outputId": "cd639ea0-3765-403b-daa0-6d4380df60d4"
      },
      "execution_count": 30,
      "outputs": [
        {
          "output_type": "stream",
          "name": "stdout",
          "text": [
            "First five elements in X_train are:\n",
            " [[34.62365962 78.02469282]\n",
            " [30.28671077 43.89499752]\n",
            " [35.84740877 72.90219803]\n",
            " [60.18259939 86.3085521 ]\n",
            " [79.03273605 75.34437644]]\n",
            "Type of X_train: <class 'numpy.ndarray'>\n"
          ]
        }
      ]
    },
    {
      "cell_type": "markdown",
      "source": [
        "Now print the first five values of y_train"
      ],
      "metadata": {
        "id": "hRdM-Ne9EwOl"
      }
    },
    {
      "cell_type": "code",
      "source": [
        "print(\"First five elements in y_train are:\\n\", y_train[:5])\n",
        "print(\"Type of y_train:\",type(y_train))"
      ],
      "metadata": {
        "colab": {
          "base_uri": "https://localhost:8080/"
        },
        "id": "Nt77qN0g8Maa",
        "outputId": "8392b1d0-b42f-4e83-dd43-e973d7fe9c49"
      },
      "execution_count": 31,
      "outputs": [
        {
          "output_type": "stream",
          "name": "stdout",
          "text": [
            "First five elements in y_train are:\n",
            " [0. 0. 0. 1. 1.]\n",
            "Type of y_train: <class 'numpy.ndarray'>\n"
          ]
        }
      ]
    },
    {
      "cell_type": "markdown",
      "source": [
        "**Checking the dimensions of our variables**\n",
        "\n",
        "Another useful way to get familiar with data is to view its dimensions. Let's print the shape of X_train and y_train and see how many training examples we have in our dataset."
      ],
      "metadata": {
        "id": "4Gz4ZinvFCPj"
      }
    },
    {
      "cell_type": "code",
      "source": [
        "print ('The shape of X_train is: ' + str(X_train.shape))\n",
        "print ('The shape of y_train is: ' + str(y_train.shape))\n",
        "print ('We have m = %d training examples' % (len(y_train)))"
      ],
      "metadata": {
        "colab": {
          "base_uri": "https://localhost:8080/"
        },
        "id": "AIelit898Me4",
        "outputId": "775f689e-7b3b-427d-857e-6f55921d75a4"
      },
      "execution_count": 32,
      "outputs": [
        {
          "output_type": "stream",
          "name": "stdout",
          "text": [
            "The shape of X_train is: (100, 2)\n",
            "The shape of y_train is: (100,)\n",
            "We have m = 100 training examples\n"
          ]
        }
      ]
    },
    {
      "cell_type": "markdown",
      "source": [
        "# Visualizing data\n",
        "\n",
        "Before starting to implement any learning algorithm, it is always good to visualize the data if possible."
      ],
      "metadata": {
        "id": "0y3NQJPJFTNU"
      }
    },
    {
      "cell_type": "code",
      "source": [
        "def plot_data(X, y, pos_label=\"y=1\", neg_label=\"y=0\"):\n",
        "    positive = y == 1\n",
        "    negative = y == 0\n",
        "    \n",
        "    # Plot examples\n",
        "    plt.plot(X[positive, 0], X[positive, 1], 'k+', label=pos_label)\n",
        "    plt.plot(X[negative, 0], X[negative, 1], 'yo', label=neg_label)"
      ],
      "metadata": {
        "id": "E6nLHhjYF-nw"
      },
      "execution_count": 33,
      "outputs": []
    },
    {
      "cell_type": "code",
      "source": [
        "# Plot examples\n",
        "plot_data(X_train, y_train[:], pos_label=\"Admitted\", neg_label=\"Not admitted\")\n",
        "\n",
        "# Set the y-axis label\n",
        "plt.ylabel('Exam 2 score') \n",
        "# Set the x-axis label\n",
        "plt.xlabel('Exam 1 score') \n",
        "plt.legend(loc=\"upper right\")\n",
        "plt.show()"
      ],
      "metadata": {
        "colab": {
          "base_uri": "https://localhost:8080/",
          "height": 279
        },
        "id": "11pfTdQ38MkD",
        "outputId": "b1dad15e-0cf4-4c3d-e33e-6db83d3e6317"
      },
      "execution_count": 34,
      "outputs": [
        {
          "output_type": "display_data",
          "data": {
            "text/plain": [
              "<Figure size 432x288 with 1 Axes>"
            ],
            "image/png": "[encoded data removed]"
          },
          "metadata": {
            "needs_background": "light"
          }
        }
      ]
    },
    {
      "cell_type": "markdown",
      "source": [
        "Our goal is to build a logistic regression model to fit this data. \n",
        "\n",
        "*   With this model, you can then predict if a new student will be admitted  based on their scores on the two exams.\n",
        "\n",
        "\n"
      ],
      "metadata": {
        "id": "ziwp_HmaGIWY"
      }
    },
    {
      "cell_type": "markdown",
      "source": [
        "# ** Sigmoid function**\n",
        "\n",
        "Recall that for logistic regression, the model is represented as\n",
        "\n",
        "𝑓𝐰,𝑏(𝑥)=𝑔(𝐰⋅𝐱+𝑏)\n",
        " \n",
        "where function  𝑔  is the sigmoid function. The sigmoid function is defined as:\n",
        "\n",
        "𝑔(𝑧)=11+𝑒−𝑧\n",
        " \n",
        "Let's implement the sigmoid function first, so it can be used by the rest of this assignment.\n",
        "\n",
        "\n",
        "Exercise 1 **bold text**\n",
        "Please complete the sigmoid function to calculate\n",
        "\n",
        "𝑔(𝑧)=11+𝑒−𝑧\n",
        " \n",
        "Note that\n",
        "\n",
        "z is not always a single number, but can also be an array of numbers.\n",
        "If the input is an array of numbers, we'd like to apply the sigmoid function to each value in the input array."
      ],
      "metadata": {
        "id": "oH1FkIyvGmLW"
      }
    },
    {
      "cell_type": "code",
      "source": [
        "def sigmoid(z):\n",
        "   g = 1/(1+np.exp(-z))\n",
        "   return g"
      ],
      "metadata": {
        "id": "Q6whUU4uGENC"
      },
      "execution_count": 35,
      "outputs": []
    },
    {
      "cell_type": "markdown",
      "source": [
        "**Cost function for logistic regression**\n",
        "\n",
        "Recall that for logistic regression, the cost function is of the form \n",
        "\n",
        "$$ J(\\mathbf{w},b) = \\frac{1}{m}\\sum_{i=0}^{m-1} \\left[ loss(f_{\\mathbf{w},b}(\\mathbf{x}^{(i)}), y^{(i)}) \\right] \\tag{1}$$\n",
        "\n",
        "where\n",
        "* m is the number of training examples in the dataset\n",
        "\n",
        "\n",
        "* $loss(f_{\\mathbf{w},b}(\\mathbf{x}^{(i)}), y^{(i)})$ is the cost for a single data point, which is - \n",
        "\n",
        "    $$loss(f_{\\mathbf{w},b}(\\mathbf{x}^{(i)}), y^{(i)}) = (-y^{(i)} \\log\\left(f_{\\mathbf{w},b}\\left( \\mathbf{x}^{(i)} \\right) \\right) - \\left( 1 - y^{(i)}\\right) \\log \\left( 1 - f_{\\mathbf{w},b}\\left( \\mathbf{x}^{(i)} \\right) \\right) \\tag{2}$$\n",
        "    \n",
        "    \n",
        "*  $f_{\\mathbf{w},b}(\\mathbf{x}^{(i)})$ is the model's prediction, while $y^{(i)}$, which is the actual label\n",
        "\n",
        "*  $f_{\\mathbf{w},b}(\\mathbf{x}^{(i)}) = g(\\mathbf{w} \\cdot \\mathbf{x^{(i)}} + b)$ where function $g$ is the sigmoid function.\n",
        "* It might be helpful to first calculate an intermediate variable $z_{\\mathbf{w},b}(\\mathbf{x}^{(i)}) = \\mathbf{w} \\cdot \\mathbf{x^{(i)}} + b = w_0x^{(i)}_0 + ... + w_{n-1}x^{(i)}_{n-1} + b$ where $n$ is the number of features, before calculating $f_{\\mathbf{w},b}(\\mathbf{x}^{(i)}) = g(z_{\\mathbf{w},b}(\\mathbf{x}^{(i)}))$\n",
        "\n",
        "Note:\n",
        "The variables X_train and y_train are not scalar values but matrices of shape ( 𝑚,𝑛 ) and ( 𝑚 ,1) respectively, where  𝑛  is the number of features and  𝑚  is the number of training examples."
      ],
      "metadata": {
        "id": "XKUU-9q0Huxw"
      }
    },
    {
      "cell_type": "code",
      "source": [
        "def compute_cost(X, y, w, b, lambda_= 1):\n",
        "\n",
        "    m, n = X.shape\n",
        "    \n",
        "    cost = 0.0\n",
        "    for i in range(m):\n",
        "        z_i = np.dot(X[i],w) + b\n",
        "        f_wb_i = sigmoid(z_i)\n",
        "        cost += -y[i]*np.log(f_wb_i) - (1-y[i])*np.log(1-f_wb_i)\n",
        "    total_cost = cost/m\n",
        "    \n",
        "    return total_cost"
      ],
      "metadata": {
        "id": "KQoTcMO9GEYP"
      },
      "execution_count": 36,
      "outputs": []
    },
    {
      "cell_type": "code",
      "source": [
        "m, n = X_train.shape\n",
        "\n",
        "# Compute and display cost with w initialized to zeroes\n",
        "initial_w = np.zeros(n)\n",
        "initial_b = 0.\n",
        "cost = compute_cost(X_train, y_train, initial_w, initial_b)\n",
        "print('Cost at initial w (zeros): {:.3f}'.format(cost))"
      ],
      "metadata": {
        "colab": {
          "base_uri": "https://localhost:8080/"
        },
        "id": "LZaYImxhGEjC",
        "outputId": "4fbb68ff-6274-4ead-8daa-98fbd9478dca"
      },
      "execution_count": 37,
      "outputs": [
        {
          "output_type": "stream",
          "name": "stdout",
          "text": [
            "Cost at initial w (zeros): 0.693\n"
          ]
        }
      ]
    },
    {
      "cell_type": "markdown",
      "source": [
        "<a name=\"2.5\"></a>\n",
        "### 2.5 Gradient for logistic regression\n",
        "\n",
        "Recall that the gradient descent algorithm is:\n",
        "\n",
        "$$\\begin{align*}& \\text{repeat until convergence:} \\; \\lbrace \\newline \\; & b := b -  \\alpha \\frac{\\partial J(\\mathbf{w},b)}{\\partial b} \\newline       \\; & w_j := w_j -  \\alpha \\frac{\\partial J(\\mathbf{w},b)}{\\partial w_j} \\tag{1}  \\; & \\text{for j := 0..n-1}\\newline & \\rbrace\\end{align*}$$\n",
        "\n",
        "where, parameters $b$, $w_j$ are all updated simultaniously"
      ],
      "metadata": {
        "id": "vjrvg8laJ6zu"
      }
    },
    {
      "cell_type": "code",
      "source": [],
      "metadata": {
        "id": "0ull-Ub-GEtT"
      },
      "execution_count": 37,
      "outputs": []
    },
    {
      "cell_type": "markdown",
      "source": [
        "<a name='ex-03'></a>\n",
        "\n",
        "$$\n",
        "\\frac{\\partial J(\\mathbf{w},b)}{\\partial b}  = \\frac{1}{m} \\sum\\limits_{i = 0}^{m-1} (f_{\\mathbf{w},b}(\\mathbf{x}^{(i)}) - \\mathbf{y}^{(i)}) \\tag{2}\n",
        "$$\n",
        "$$\n",
        "\\frac{\\partial J(\\mathbf{w},b)}{\\partial w_j}  = \\frac{1}{m} \\sum\\limits_{i = 0}^{m-1} (f_{\\mathbf{w},b}(\\mathbf{x}^{(i)}) - \\mathbf{y}^{(i)})x_{j}^{(i)} \\tag{3}\n",
        "$$\n",
        "* m is the number of training examples in the dataset\n",
        "\n",
        "    \n",
        "*  $f_{\\mathbf{w},b}(x^{(i)})$ is the model's prediction, while $y^{(i)}$ is the actual label\n",
        "\n",
        "\n",
        "- **Note**: While this gradient looks identical to the linear regression gradient, the formula is actually different because linear and logistic regression have different definitions of $f_{\\mathbf{w},b}(x)$.\n"
      ],
      "metadata": {
        "id": "fIchUp_zKAl-"
      }
    },
    {
      "cell_type": "code",
      "source": [
        "def compute_gradient(X, y, w, b, lambda_=None): \n",
        "\n",
        "    m, n = X.shape\n",
        "    dj_dw = np.zeros(w.shape)\n",
        "    dj_db = 0\n",
        "\n",
        "    for i in range(m):\n",
        "        f_wb_i = sigmoid(np.dot(X[i],w) + b)\n",
        "        err_i = f_wb_i - y[i]\n",
        "        for j in range(n): \n",
        "            dj_dw[j] += err_i*X[i,j]\n",
        "        \n",
        "        dj_db += err_i\n",
        "        \n",
        "    dj_dw = dj_dw/m\n",
        "    dj_db = dj_db/m\n",
        "        \n",
        "    return dj_db, dj_dw"
      ],
      "metadata": {
        "id": "6iZA59PP8MoK"
      },
      "execution_count": 38,
      "outputs": []
    },
    {
      "cell_type": "code",
      "source": [
        "# Compute and display gradient with w initialized to zeroes\n",
        "initial_w = np.zeros(n)\n",
        "initial_b = 0.\n",
        "\n",
        "dj_db, dj_dw = compute_gradient(X_train, y_train, initial_w, initial_b)\n",
        "print(f'dj_db at initial w (zeros):{dj_db}' )\n",
        "print(f'dj_dw at initial w (zeros):{dj_dw.tolist()}' )"
      ],
      "metadata": {
        "colab": {
          "base_uri": "https://localhost:8080/"
        },
        "id": "XsUbfQowKSNy",
        "outputId": "c421f70e-da69-411a-d1ac-e429390f9aee"
      },
      "execution_count": 39,
      "outputs": [
        {
          "output_type": "stream",
          "name": "stdout",
          "text": [
            "dj_db at initial w (zeros):-0.1\n",
            "dj_dw at initial w (zeros):[-12.00921658929115, -11.262842205513591]\n"
          ]
        }
      ]
    },
    {
      "cell_type": "markdown",
      "source": [
        "**Learning parameters using gradient descent**\n",
        "\n",
        "We will now find the optimal parameters of a logistic regression model by using gradient descent. \n",
        "\n",
        "- A good way to verify that gradient descent is working correctly is to look\n",
        "at the value of $J(\\mathbf{w},b)$ and check that it is decreasing with each step. \n",
        "\n",
        "- Assuming you have implemented the gradient and computed the cost correctly, our value of $J(\\mathbf{w},b)$ should never increase, and should converge to a steady value by the end of the algorithm."
      ],
      "metadata": {
        "id": "8JquWz_EKkfR"
      }
    },
    {
      "cell_type": "code",
      "source": [
        "def gradient_descent(X, y, w_in, b_in, cost_function, gradient_function, alpha, num_iters, lambda_): \n",
        "    \n",
        "    # number of training examples\n",
        "    m = len(X)\n",
        "    \n",
        "    # An array to store cost J and w's at each iteration primarily for graphing later\n",
        "    J_history = []\n",
        "    w_history = []\n",
        "    \n",
        "    for i in range(num_iters):\n",
        "\n",
        "        # Calculating the gradient and update the parameters\n",
        "        dj_db, dj_dw = gradient_function(X, y, w_in, b_in, lambda_)   \n",
        "\n",
        "        # Updating Parameters using w, b, alpha and gradient\n",
        "        w_in = w_in - alpha * dj_dw               \n",
        "        b_in = b_in - alpha * dj_db              \n",
        "       \n",
        "        # Saving cost J at each iteration\n",
        "        if i<100000:      # prevent resource exhaustion \n",
        "            cost =  cost_function(X, y, w_in, b_in, lambda_)\n",
        "            J_history.append(cost)\n",
        "\n",
        "        # Printing cost every at intervals 10 times or as many iterations if < 10\n",
        "        if i% math.ceil(num_iters/10) == 0 or i == (num_iters-1):\n",
        "            w_history.append(w_in)\n",
        "            print(f\"Iteration {i:4}: Cost {float(J_history[-1]):8.2f}   \")\n",
        "        \n",
        "    return w_in, b_in, J_history, w_history #return w and J,w history for graphing"
      ],
      "metadata": {
        "id": "2w8viP3RKSRS"
      },
      "execution_count": 40,
      "outputs": []
    },
    {
      "cell_type": "code",
      "source": [
        "np.random.seed(1)\n",
        "intial_w = 0.01 * (np.random.rand(2).reshape(-1,1) - 0.5)\n",
        "initial_b = -8\n",
        "\n",
        "\n",
        "# Some gradient descent settings\n",
        "iterations = 10000\n",
        "alpha = 0.001\n",
        "\n",
        "w,b, J_history,_ = gradient_descent(X_train ,y_train, initial_w, initial_b, \n",
        "                                   compute_cost, compute_gradient, alpha, iterations, 0)"
      ],
      "metadata": {
        "colab": {
          "base_uri": "https://localhost:8080/"
        },
        "id": "j8CxfRz1KSVL",
        "outputId": "aeab51d5-d525-4380-e072-0aa044e271d6"
      },
      "execution_count": 41,
      "outputs": [
        {
          "output_type": "stream",
          "name": "stdout",
          "text": [
            "Iteration    0: Cost     1.01   \n",
            "Iteration 1000: Cost     0.31   \n",
            "Iteration 2000: Cost     0.30   \n",
            "Iteration 3000: Cost     0.30   \n",
            "Iteration 4000: Cost     0.30   \n",
            "Iteration 5000: Cost     0.30   \n",
            "Iteration 6000: Cost     0.30   \n",
            "Iteration 7000: Cost     0.30   \n",
            "Iteration 8000: Cost     0.30   \n",
            "Iteration 9000: Cost     0.30   \n",
            "Iteration 9999: Cost     0.30   \n"
          ]
        }
      ]
    },
    {
      "cell_type": "markdown",
      "source": [
        "# **Evaluating logistic regression**\n",
        "We can evaluate the quality of the parameters we have found by seeing how well the learned model predicts on our training set.\n",
        "\n",
        "We will implement the predict function below to do this.\n",
        "\n",
        "- First we need to compute the prediction from the model $f(x^{(i)}) = g(w \\cdot x^{(i)})$ for every example \n",
        "    - We've implemented this before in the parts above\n",
        "- We interpret the output of the model ($f(x^{(i)})$) as the probability that $y^{(i)}=1$ given $x^{(i)}$ and parameterized by $w$.\n",
        "- Therefore, to get a final prediction ($y^{(i)}=0$ or $y^{(i)}=1$) from the logistic regression model, we can use the following -\n",
        "\n",
        "  if $f(x^{(i)}) >= 0.5$, predict $y^{(i)}=1$\n",
        "  \n",
        "  if $f(x^{(i)}) < 0.5$, predict $y^{(i)}=0$"
      ],
      "metadata": {
        "id": "nDddQF2ULz9o"
      }
    },
    {
      "cell_type": "code",
      "source": [
        "def predict(X, w, b): \n",
        "    \n",
        "    # number of training examples\n",
        "    m, n = X.shape   \n",
        "    p = np.zeros(m)\n",
        "    \n",
        "    # Looping over each example\n",
        "    for i in range(m):   \n",
        "        z_wb = 0\n",
        "        # Looping over each feature\n",
        "        for j in range(n): \n",
        "            # Add the corresponding term to z_wb\n",
        "            z_wb_ij = X[i, j] * w[j]\n",
        "            z_wb += z_wb_ij\n",
        "        \n",
        "        # Adding bias term \n",
        "        z_wb += b\n",
        "        \n",
        "        # Calculating the prediction for this example\n",
        "        f_wb = sigmoid(z_wb)\n",
        "\n",
        "        # Applying the threshold\n",
        "        if f_wb >= 0.5:\n",
        "            p[i] = 1\n",
        "        else:\n",
        "            p[i] = 0\n",
        "        \n",
        "    return p"
      ],
      "metadata": {
        "id": "ANtdwoPnKSZe"
      },
      "execution_count": 42,
      "outputs": []
    },
    {
      "cell_type": "markdown",
      "source": [
        "**Now let's use this to compute the accuracy on the training set**"
      ],
      "metadata": {
        "id": "1piH2DaWM0Ne"
      }
    },
    {
      "cell_type": "code",
      "source": [
        "#Compute accuracy on our training set\n",
        "p = predict(X_train, w,b)\n",
        "print('Train Accuracy: %f'%(np.mean(p == y_train) * 100))"
      ],
      "metadata": {
        "colab": {
          "base_uri": "https://localhost:8080/"
        },
        "id": "SvieCxOcMXgi",
        "outputId": "93210b97-5f8d-4b0e-f311-c63a073328e0"
      },
      "execution_count": 43,
      "outputs": [
        {
          "output_type": "stream",
          "name": "stdout",
          "text": [
            "Train Accuracy: 92.000000\n"
          ]
        }
      ]
    }
  ]
}